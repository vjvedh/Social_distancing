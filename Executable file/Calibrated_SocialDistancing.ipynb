{
 "cells": [
  {
   "cell_type": "code",
   "execution_count": 1,
   "metadata": {},
   "outputs": [],
   "source": [
    "import cv2\n",
    "import math\n"
   ]
  },
  {
   "cell_type": "code",
   "execution_count": 2,
   "metadata": {},
   "outputs": [],
   "source": [
    "cap = cv2.VideoCapture(0)\n",
    "\n",
    "face_model = cv2.CascadeClassifier('D:/AnacondaInstall/Lib/site-packages/cv2/data/haarcascade_frontalface_default.xml')\n"
   ]
  },
  {
   "cell_type": "code",
   "execution_count": 3,
   "metadata": {},
   "outputs": [
    {
     "name": "stdout",
     "output_type": "stream",
     "text": [
      "******************************************************\n",
      "         Welcome to the Social Distancing App         \n",
      "******************************************************\n",
      "\n",
      "\n"
     ]
    }
   ],
   "source": [
    "print(\"******************************************************\")\n",
    "print(\"         Welcome to the Social Distancing App         \")\n",
    "print(\"******************************************************\")\n",
    "print(\"\\n\")\n"
   ]
  },
  {
   "cell_type": "code",
   "execution_count": 4,
   "metadata": {},
   "outputs": [],
   "source": [
    "def calibration(distance, width_of_face):\n",
    "    count = 0\n",
    "    pixcel_width = 0\n",
    "    while count<20:\n",
    "        _ , photo = cap.read()\n",
    "        face_cor = face_model.detectMultiScale(photo)\n",
    "\n",
    "        if len(face_cor) == 0:\n",
    "            pass\n",
    "        else:\n",
    "            pixcel_width += face_cor[0][2]\n",
    "            cv2.rectangle(photo, (face_cor[0][0],face_cor[0][1]), (face_cor[0][0] + face_cor[0][2], face_cor[0][1] + face_cor[0][3]), [0,255,0], 3)\n",
    "            count += 1\n",
    "        cv2.imshow('hi', photo)\n",
    "        cv2.waitKey(5)\n",
    "    cv2.destroyAllWindows()\n",
    "    pixcel_width /= 20\n",
    "    #cap.release()\n",
    "    return ((pixcel_width * distance) / width_of_face)\n",
    "\n",
    "def distanceCAL(width_of_face, focal_length, perWidth):\n",
    "    #returning distance in inches\n",
    "    return ((width_of_face * focal_length) / perWidth)\n"
   ]
  },
  {
   "cell_type": "code",
   "execution_count": 5,
   "metadata": {},
   "outputs": [],
   "source": [
    "width_of_face = 20      #approximate value of bonding width we cover\n"
   ]
  },
  {
   "cell_type": "code",
   "execution_count": 6,
   "metadata": {},
   "outputs": [
    {
     "name": "stdout",
     "output_type": "stream",
     "text": [
      "CALIBRATION STARTED Stand at the mark at the distance of x centimeter from the camera and press 1\n",
      "1\n",
      "Enter the distance in cm: 45\n"
     ]
    }
   ],
   "source": [
    "print(\"CALIBRATION STARTED Stand at the mark at the distance of x centimeter from the camera and press 1\")\n",
    "if (input() == '1'):\n",
    "    x = int(input(\"Enter the distance in cm: \"))\n",
    "    focal_length = calibration(x, width_of_face)\n"
   ]
  },
  {
   "cell_type": "code",
   "execution_count": 7,
   "metadata": {},
   "outputs": [],
   "source": [
    "while True:    \n",
    "    centroid = []\n",
    "    person_in_contact=\"\"\n",
    "    status,photo = cap.read()\n",
    "    photo = cv2.resize(photo,(400,400), interpolation = cv2.INTER_AREA)\n",
    "    face_cor = face_model.detectMultiScale(photo)\n",
    "    font = cv2.FONT_HERSHEY_SIMPLEX\n",
    "    org = (50, 50)\n",
    "    fontScale = 1\n",
    "    color = (0, 255, 0)\n",
    "    thickness = 2\n",
    "    text=\"Total Face Detected \" +str(len(face_cor))\n",
    "    centroid.clear()\n",
    "    i = 1\n",
    "    BirdImage = cv2.imread('C:/Users/KIIT/Desktop/eagle.jpg')\n",
    "    BirdImage = cv2.resize(BirdImage,(400,400), interpolation = cv2.INTER_AREA)\n",
    "    img = 0*cv2.imread('C:/Users/KIIT/Desktop/Black_photo.jpg')\n",
    "    img = cv2.resize(img,(800,800), fx=800,fy=800, interpolation = cv2.INTER_AREA)\n",
    "    alert = \" \"\n",
    "    if len(face_cor) == 0:\n",
    "        pass\n",
    "    else:    \n",
    "        for (x,y,w,h) in face_cor:    \n",
    "            x1 = x\n",
    "            y1 = y\n",
    "            x2 = x + w\n",
    "            y2 = y + h\n",
    "            centroid.append((int((x2+x1)/2), int((y2+y1)/2)))\n",
    "            #distance was calculated using focal length. focal length = 400cm. Focal_length = (Pixcel_width x  Distance from camera) / Width of obejct . width =17cm distance=30cm, pixcel=200px \n",
    "            dis = \"dis= \" + \"{:.2f}\".format(distanceCAL(width_of_face, focal_length, (x2-x1))) + \" cm\"\n",
    "            cv2.rectangle(photo, (x1,y1), (x2,y2), [0,255,0], 3)\n",
    "            cv2.putText(photo, dis, (x1,y2-10), font, 0.65, (0,255,0), thickness)\n",
    "            cv2.circle(photo, centroid[i-1], 4, (0, 255, 0), -1)\n",
    "            cv2.circle(BirdImage, centroid[i-1], 4, (0, 0, 255), -1)\n",
    "            cv2.putText(photo, f'Id: {i}', (int((x2+x1)/2)-10, int((y2+y1)/2)-10), cv2.FONT_HERSHEY_SIMPLEX, 0.5, (0, 255, 0), 2)\n",
    "            i += 1\n",
    "        for i in range(len(centroid)):\n",
    "            for j in range(i+1, len(centroid)):\n",
    "                color = [0,255,0]\n",
    "                d = math.sqrt( ((centroid[j][1]-centroid[i][1])**2)+((centroid[j][0]-centroid[i][0])**2) )\n",
    "                dP = \"{:.2f}\".format(distanceCAL(width_of_face, focal_length, d)) + \" cm\"\n",
    "                show = \"ID:\"+ str(i+1) + \"- ID:\" + str(j+1) + \"=\" +str(dP)\n",
    "                print(show)\n",
    "                #run if person is not maintaing social distancing \n",
    "                if (distanceCAL(width_of_face, focal_length,d)) < 40 :\n",
    "                    color = [0,0,255]\n",
    "                    person_in_contact += \"Person \" + str(i+1) + \" and Person \"+str(j+1)\n",
    "                    person_in_contact += \" are not following social distancing \"\n",
    "                    print(person_in_contact)\n",
    "                    alert = \"!!  ALERT PERSONS ARE IN CONTACT !!\"\n",
    "                    print(alert)\n",
    "                \n",
    "                cv2.line(photo, (centroid[i][0], centroid[i][1]), (centroid[j][0], centroid[j][1]), color, 2)\n",
    "                cv2.putText(img, show, (50,450+j*25+i*25), font, 0.65, color, thickness)\n",
    "                cv2.putText(photo, dP, (int((centroid[i][0]+centroid[j][0])/2),int((centroid[i][1]+centroid[j][1])/2)-10), font, 0.65, color, 2)\n",
    "        img[0:400,0:400]= photo \n",
    "        img[0:400,400:800]= BirdImage\n",
    "        cv2.putText(img, text, (300,410), font, 0.65, color, thickness)\n",
    "        cv2.putText(img, alert, (100,700), font, 0.65, color, thickness)\n",
    "        \n",
    "        cv2.imshow(\"Social_Distancing with Eagle's Eye Map\", img)\n",
    "        if cv2.waitKey(5) == 13:\n",
    "            break\n",
    "cv2.destroyAllWindows()\n",
    "\n",
    "cap.release()"
   ]
  },
  {
   "cell_type": "code",
   "execution_count": null,
   "metadata": {},
   "outputs": [],
   "source": []
  }
 ],
 "metadata": {
  "kernelspec": {
   "display_name": "Python 3",
   "language": "python",
   "name": "python3"
  },
  "language_info": {
   "codemirror_mode": {
    "name": "ipython",
    "version": 3
   },
   "file_extension": ".py",
   "mimetype": "text/x-python",
   "name": "python",
   "nbconvert_exporter": "python",
   "pygments_lexer": "ipython3",
   "version": "3.7.7"
  }
 },
 "nbformat": 4,
 "nbformat_minor": 4
}
